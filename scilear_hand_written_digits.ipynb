{
 "cells": [
  {
   "cell_type": "markdown",
   "id": "9f39cc18-2450-43c8-bdfd-83011dde35be",
   "metadata": {},
   "source": [
    "### Recognizing hand_written"
   ]
  },
  {
   "cell_type": "code",
   "execution_count": 2,
   "id": "6fe5382e-80fb-48a6-8e0d-68536801fa62",
   "metadata": {},
   "outputs": [],
   "source": [
    "import matplotlib.pyplot as plt\n",
    "\n",
    "# Import datasets, classifiers and performance metrics\n",
    "from sklearn import datasets, metrics\n",
    "from sklearn.model_selection import train_test_split"
   ]
  },
  {
   "cell_type": "markdown",
   "id": "cf215550-3a02-4a46-94d2-4fb63768fde4",
   "metadata": {},
   "source": [
    "### Digits dataset"
   ]
  },
  {
   "cell_type": "markdown",
   "id": "979acb2e-9684-4ef6-becd-dae1111100c6",
   "metadata": {},
   "source": [
    "The digits dataset consists of 8x8 pixel images of digits.\n",
    "The images attribute of the dataset stores 8x8 arrays of grayscale values for each image. \n",
    "We will use these arrays to visualize the first 4 images. \n",
    "The target attribute of the dataset stores the digit each image represents and this is included in the title of the 4 plots below.\n",
    "\n"
   ]
  },
  {
   "cell_type": "code",
   "execution_count": 3,
   "id": "f9e5acb0-1c8d-4879-80d9-7da9b1505579",
   "metadata": {},
   "outputs": [
    {
     "name": "stdout",
     "output_type": "stream",
     "text": [
      "['DESCR', 'data', 'feature_names', 'frame', 'images', 'target', 'target_names']\n"
     ]
    }
   ],
   "source": [
    "digits = datasets.load_digits()\n",
    "print(dir(digits))\n"
   ]
  },
  {
   "cell_type": "code",
   "execution_count": 4,
   "id": "13ee18a6-9843-4ac1-9ced-c53a51efcfb2",
   "metadata": {},
   "outputs": [
    {
     "name": "stdout",
     "output_type": "stream",
     "text": [
      "['pixel_0_0', 'pixel_0_1', 'pixel_0_2', 'pixel_0_3', 'pixel_0_4', 'pixel_0_5', 'pixel_0_6', 'pixel_0_7', 'pixel_1_0', 'pixel_1_1', 'pixel_1_2', 'pixel_1_3', 'pixel_1_4', 'pixel_1_5', 'pixel_1_6', 'pixel_1_7', 'pixel_2_0', 'pixel_2_1', 'pixel_2_2', 'pixel_2_3', 'pixel_2_4', 'pixel_2_5', 'pixel_2_6', 'pixel_2_7', 'pixel_3_0', 'pixel_3_1', 'pixel_3_2', 'pixel_3_3', 'pixel_3_4', 'pixel_3_5', 'pixel_3_6', 'pixel_3_7', 'pixel_4_0', 'pixel_4_1', 'pixel_4_2', 'pixel_4_3', 'pixel_4_4', 'pixel_4_5', 'pixel_4_6', 'pixel_4_7', 'pixel_5_0', 'pixel_5_1', 'pixel_5_2', 'pixel_5_3', 'pixel_5_4', 'pixel_5_5', 'pixel_5_6', 'pixel_5_7', 'pixel_6_0', 'pixel_6_1', 'pixel_6_2', 'pixel_6_3', 'pixel_6_4', 'pixel_6_5', 'pixel_6_6', 'pixel_6_7', 'pixel_7_0', 'pixel_7_1', 'pixel_7_2', 'pixel_7_3', 'pixel_7_4', 'pixel_7_5', 'pixel_7_6', 'pixel_7_7']\n"
     ]
    }
   ],
   "source": [
    "print(digits.feature_names)"
   ]
  },
  {
   "cell_type": "code",
   "execution_count": 5,
   "id": "c76619b8-cf1f-4684-80b5-bc0449ae95bb",
   "metadata": {},
   "outputs": [
    {
     "name": "stdout",
     "output_type": "stream",
     "text": [
      "AxesImage(54,36;334.8x217.44)\n"
     ]
    },
    {
     "data": {
      "image/png": "[encoded data removed]",
      "text/plain": [
       "<Figure size 432x288 with 1 Axes>"
      ]
     },
     "metadata": {
      "needs_background": "light"
     },
     "output_type": "display_data"
    }
   ],
   "source": [
    "print(plt.imshow(digits.images[0]))"
   ]
  },
  {
   "cell_type": "code",
   "execution_count": 6,
   "id": "f51264bf-9496-4235-8e8f-ee5b6cce705d",
   "metadata": {},
   "outputs": [
    {
     "name": "stdout",
     "output_type": "stream",
     "text": [
      "<class 'NoneType'>\n"
     ]
    }
   ],
   "source": [
    "print(type(digits.frame))"
   ]
  },
  {
   "cell_type": "code",
   "execution_count": 7,
   "id": "b92fd602-1721-49b1-b735-ae9f29b76e7a",
   "metadata": {},
   "outputs": [
    {
     "data": {
      "image/png": "[encoded data removed]",
      "text/plain": [
       "<Figure size 1080x720 with 5 Axes>"
      ]
     },
     "metadata": {
      "needs_background": "light"
     },
     "output_type": "display_data"
    }
   ],
   "source": [
    "_, axes = plt.subplots(nrows=1, ncols=5, figsize=(15, 10))\n",
    "for ax, image, label in zip(axes, digits.images, digits.target):\n",
    "    ax.set_axis_off()\n",
    "    ax.imshow(image, cmap=plt.cm.gray_r, interpolation=\"nearest\")\n",
    "    ax.set_title(\"Training: %i\" % label)"
   ]
  },
  {
   "cell_type": "code",
   "execution_count": 8,
   "id": "18325e3e-eca7-4716-9495-42a7cad633f6",
   "metadata": {},
   "outputs": [
    {
     "data": {
      "text/plain": [
       "(8, 8)"
      ]
     },
     "execution_count": 8,
     "metadata": {},
     "output_type": "execute_result"
    }
   ],
   "source": [
    "digits = datasets.load_digits()\n",
    "digits.images[1].shape"
   ]
  },
  {
   "cell_type": "markdown",
   "id": "128d12f4-3fda-4362-806b-3df1bb284330",
   "metadata": {},
   "source": [
    "### Classification"
   ]
  },
  {
   "cell_type": "markdown",
   "id": "16eaf8e4-5372-4035-a8fe-64306c04b584",
   "metadata": {},
   "source": [
    "To apply a classifier on this data, we need to flatten the images, turning each 2-D array of grayscale values from shape (8, 8) into shape (64,). Subsequently, the entire dataset will be of shape (n_samples, n_features), where n_samples is the number of images and n_features is the total number of pixels in each image.\n",
    "\n",
    "We can then split the data into train and test subsets and fit a support vector classifier on the train samples. The fitted classifier can subsequently be used to predict the value of the digit for the samples in the test subset"
   ]
  },
  {
   "cell_type": "code",
   "execution_count": 9,
   "id": "bf8bbed8-d1e0-405e-8205-f3e8e42e3291",
   "metadata": {},
   "outputs": [
    {
     "name": "stdout",
     "output_type": "stream",
     "text": [
      "(1797, 8, 8)\n",
      "1797\n",
      "(1797, 64)\n"
     ]
    }
   ],
   "source": [
    "# flatten the images\n",
    "print(digits.images.shape)\n",
    "n_samples = len(digits.images)\n",
    "print(n_samples)\n",
    "data = digits.images.reshape((n_samples, -1))\n",
    "print(data.shape)\n"
   ]
  },
  {
   "cell_type": "markdown",
   "id": "31f0491d-118f-4bb1-a337-a6e1d1d05a95",
   "metadata": {},
   "source": [
    "#### Multiple Classifiers"
   ]
  },
  {
   "cell_type": "code",
   "execution_count": 10,
   "id": "da816838-858d-4a35-9eb8-e6954440fd78",
   "metadata": {},
   "outputs": [],
   "source": [
    "from sklearn.ensemble import RandomForestClassifier\n",
    "from sklearn.neighbors import KNeighborsClassifier\n",
    "from sklearn.svm import LinearSVC\n",
    "from sklearn.svm import SVC\n",
    "from sklearn.linear_model import LogisticRegression\n",
    "\n",
    "\n",
    "from sklearn.model_selection import GridSearchCV\n",
    "from sklearn.model_selection import cross_val_score"
   ]
  },
  {
   "cell_type": "code",
   "execution_count": 18,
   "id": "b55bca10-e24f-4c07-94bd-1a482230143f",
   "metadata": {},
   "outputs": [],
   "source": [
    "# Create dictionary of classifiers\n",
    "clf_to_select ={\"RandomForestClassifier\": RandomForestClassifier(),\n",
    "                \"KNeighborsClassifier\": KNeighborsClassifier(),\n",
    "                \"LinearSVC\": LinearSVC(),\n",
    "                \"SVC\" :SVC(),\n",
    "                \"LogisticRegression\" : LogisticRegression()\n",
    "                               \n",
    "               }\n",
    "# Create an empty dictionary for predicted results\n",
    "results ={}"
   ]
  },
  {
   "cell_type": "code",
   "execution_count": 19,
   "id": "cd60895d-3ebe-411e-b201-8eae61ac8737",
   "metadata": {},
   "outputs": [
    {
     "name": "stdout",
     "output_type": "stream",
     "text": [
      "train_dataset: 1437\n",
      "test_dataset: 360\n"
     ]
    }
   ],
   "source": [
    "# Split data into 80% train and 20% test subsets\n",
    "X_train, X_test, y_train, y_test = train_test_split(\n",
    "    data, digits.target, test_size=0.2, shuffle=False\n",
    ")\n",
    "print(\"train_dataset:\", len(X_train))\n",
    "print(\"test_dataset:\", len(X_test))"
   ]
  },
  {
   "cell_type": "code",
   "execution_count": 21,
   "id": "562e7f70-092e-4be4-8a5b-c61ebb4bd2f5",
   "metadata": {},
   "outputs": [
    {
     "name": "stderr",
     "output_type": "stream",
     "text": [
      "C:\\Users\\ekata\\anaconda3\\envs\\tf\\lib\\site-packages\\sklearn\\svm\\_base.py:1225: ConvergenceWarning: Liblinear failed to converge, increase the number of iterations.\n",
      "  warnings.warn(\n",
      "C:\\Users\\ekata\\anaconda3\\envs\\tf\\lib\\site-packages\\sklearn\\linear_model\\_logistic.py:444: ConvergenceWarning: lbfgs failed to converge (status=1):\n",
      "STOP: TOTAL NO. of ITERATIONS REACHED LIMIT.\n",
      "\n",
      "Increase the number of iterations (max_iter) or scale the data as shown in:\n",
      "    https://scikit-learn.org/stable/modules/preprocessing.html\n",
      "Please also refer to the documentation for alternative solver options:\n",
      "    https://scikit-learn.org/stable/modules/linear_model.html#logistic-regression\n",
      "  n_iter_i = _check_optimize_result(\n"
     ]
    },
    {
     "data": {
      "text/plain": [
       "{'model_name': 1.0,\n",
       " 'RandomForestClassifier': 1.0,\n",
       " 'KNeighborsClassifier': 1.0,\n",
       " 'LinearSVC': 1.0,\n",
       " 'SVC': 1.0,\n",
       " 'LogisticRegression': 1.0}"
      ]
     },
     "execution_count": 21,
     "metadata": {},
     "output_type": "execute_result"
    }
   ],
   "source": [
    "\n",
    "# Fit the models and classify to Learn the digits on the train subset\n",
    "for model_name, model in clf_to_select.items():\n",
    "    \n",
    "    model.fit(X_train, y_train)\n",
    "    predicted = model.predict(X_test)\n",
    "    results[model_name]= model.score(X_test,predicted)\n",
    "\n",
    "results"
   ]
  },
  {
   "cell_type": "markdown",
   "id": "6bfd8e3c-04df-4bb7-af42-97dfea765671",
   "metadata": {},
   "source": [
    "Below we visualize the first 4 test samples and show their predicted digit value in the title"
   ]
  },
  {
   "cell_type": "code",
   "execution_count": 22,
   "id": "22861f41-ce04-40b8-ae85-a62b9a95e618",
   "metadata": {},
   "outputs": [
    {
     "data": {
      "image/png": "[encoded data removed]",
      "text/plain": [
       "<Figure size 1080x720 with 4 Axes>"
      ]
     },
     "metadata": {
      "needs_background": "light"
     },
     "output_type": "display_data"
    }
   ],
   "source": [
    "_, axes = plt.subplots(nrows=1, ncols=4, figsize=(15,10))\n",
    "for ax, image, prediction in zip(axes, X_test, predicted):\n",
    "    ax.set_axis_off()\n",
    "    #print(image.shape)\n",
    "    image = image.reshape(8, 8)\n",
    "    ax.imshow(image, cmap=plt.cm.gray_r, interpolation=\"nearest\")\n",
    "    ax.set_title(f\"Prediction: {prediction}\")"
   ]
  },
  {
   "cell_type": "markdown",
   "id": "84575edb-096e-47a4-97f3-f5e78a45dfd9",
   "metadata": {},
   "source": [
    "#### classification_report builds a text report showing the main classification metrics :"
   ]
  },
  {
   "cell_type": "code",
   "execution_count": 24,
   "id": "a1b19988-a2e1-4bad-bf53-f553b4d9355d",
   "metadata": {},
   "outputs": [
    {
     "name": "stdout",
     "output_type": "stream",
     "text": [
      "Classification report for classifier SVC(gamma=0.001):\n",
      "              precision    recall  f1-score   support\n",
      "\n",
      "           0       1.00      0.99      0.99        88\n",
      "           1       0.99      0.97      0.98        91\n",
      "           2       0.99      0.99      0.99        86\n",
      "           3       0.98      0.87      0.92        91\n",
      "           4       0.99      0.96      0.97        92\n",
      "           5       0.95      0.97      0.96        91\n",
      "           6       0.99      0.99      0.99        91\n",
      "           7       0.96      0.99      0.97        89\n",
      "           8       0.94      1.00      0.97        88\n",
      "           9       0.93      0.98      0.95        92\n",
      "\n",
      "    accuracy                           0.97       899\n",
      "   macro avg       0.97      0.97      0.97       899\n",
      "weighted avg       0.97      0.97      0.97       899\n",
      "\n",
      "\n"
     ]
    }
   ],
   "source": [
    "print(\n",
    "    f\"Classification report for classifier {clf}:\\n\"\n",
    "    f\"{metrics.classification_report(y_test, predicted)}\\n\"\n"
   ]
  },
  {
   "cell_type": "markdown",
   "id": "f0055c65-a3de-43f1-a295-090a20266aa6",
   "metadata": {},
   "source": [
    "#### A confusion matrix of the true digit values "
   ]
  },
  {
   "cell_type": "code",
   "execution_count": 26,
   "id": "7949c598-c567-45bf-8b75-faeb866d70f1",
   "metadata": {},
   "outputs": [
    {
     "data": {
      "image/png": "[encoded data removed]",
      "text/plain": [
       "<Figure size 432x288 with 2 Axes>"
      ]
     },
     "metadata": {
      "needs_background": "light"
     },
     "output_type": "display_data"
    }
   ],
   "source": [
    "disp = metrics.ConfusionMatrixDisplay.from_predictions(y_test, predicted)\n",
    "disp.figure_.suptitle(\"Confusion Matrix\")\n",
    "\n",
    "\n",
    "plt.show()"
   ]
  },
  {
   "cell_type": "code",
   "execution_count": null,
   "id": "1f0b2a57-b51e-4604-a32b-3c05fe99386f",
   "metadata": {},
   "outputs": [
    {
     "name": "stdout",
     "output_type": "stream",
     "text": [
      "Confusion matrix:\n",
      "[[87  0  0  0  1  0  0  0  0  0]\n",
      " [ 0 88  1  0  0  0  0  0  1  1]\n",
      " [ 0  0 85  1  0  0  0  0  0  0]\n",
      " [ 0  0  0 79  0  3  0  4  5  0]\n",
      " [ 0  0  0  0 88  0  0  0  0  4]\n",
      " [ 0  0  0  0  0 88  1  0  0  2]\n",
      " [ 0  1  0  0  0  0 90  0  0  0]\n",
      " [ 0  0  0  0  0  1  0 88  0  0]\n",
      " [ 0  0  0  0  0  0  0  0 88  0]\n",
      " [ 0  0  0  1  0  1  0  0  0 90]]\n"
     ]
    }
   ],
   "source": [
    "print(f\"Confusion matrix:\\n{disp.confusion_matrix}\")"
   ]
  }
 ],
 "metadata": {
  "kernelspec": {
   "display_name": "Python 3 (ipykernel)",
   "language": "python",
   "name": "python3"
  },
  "language_info": {
   "codemirror_mode": {
    "name": "ipython",
    "version": 3
   },
   "file_extension": ".py",
   "mimetype": "text/x-python",
   "name": "python",
   "nbconvert_exporter": "python",
   "pygments_lexer": "ipython3",
   "version": "3.9.12"
  }
 },
 "nbformat": 4,
 "nbformat_minor": 5
}
