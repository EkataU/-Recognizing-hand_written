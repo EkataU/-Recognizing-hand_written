{
  "nbformat": 4,
  "nbformat_minor": 0,
  "metadata": {
    "colab": {
      "provenance": [],
      "include_colab_link": true
    },
    "kernelspec": {
      "name": "python3",
      "display_name": "Python 3"
    },
    "language_info": {
      "name": "python"
    },
    "widgets": {
      "application/vnd.jupyter.widget-state+json": {
        "fad2fa3aecc5454ca8d09f209b7fa060": {
          "model_module": "@jupyter-widgets/controls",
          "model_name": "HBoxModel",
          "model_module_version": "1.5.0",
          "state": {
            "_dom_classes": [],
            "_model_module": "@jupyter-widgets/controls",
            "_model_module_version": "1.5.0",
            "_model_name": "HBoxModel",
            "_view_count": null,
            "_view_module": "@jupyter-widgets/controls",
            "_view_module_version": "1.5.0",
            "_view_name": "HBoxView",
            "box_style": "",
            "children": [
              "IPY_MODEL_43afaaef0ff8485f8c34967139fc5935",
              "IPY_MODEL_4b68306bc4b44540840028db24e8770f",
              "IPY_MODEL_6b2c4c7ff0484881a15a858c03061b17"
            ],
            "layout": "IPY_MODEL_f8c1f8292adc4754a1c82bd6e7391a4d"
          }
        },
        "43afaaef0ff8485f8c34967139fc5935": {
          "model_module": "@jupyter-widgets/controls",
          "model_name": "HTMLModel",
          "model_module_version": "1.5.0",
          "state": {
            "_dom_classes": [],
            "_model_module": "@jupyter-widgets/controls",
            "_model_module_version": "1.5.0",
            "_model_name": "HTMLModel",
            "_view_count": null,
            "_view_module": "@jupyter-widgets/controls",
            "_view_module_version": "1.5.0",
            "_view_name": "HTMLView",
            "description": "",
            "description_tooltip": null,
            "layout": "IPY_MODEL_57b61f6c177f47149c71351108172107",
            "placeholder": "​",
            "style": "IPY_MODEL_22c8b9aaddac4f8c8943439156cc7a4f",
            "value": "config.json: 100%"
          }
        },
        "4b68306bc4b44540840028db24e8770f": {
          "model_module": "@jupyter-widgets/controls",
          "model_name": "FloatProgressModel",
          "model_module_version": "1.5.0",
          "state": {
            "_dom_classes": [],
            "_model_module": "@jupyter-widgets/controls",
            "_model_module_version": "1.5.0",
            "_model_name": "FloatProgressModel",
            "_view_count": null,
            "_view_module": "@jupyter-widgets/controls",
            "_view_module_version": "1.5.0",
            "_view_name": "ProgressView",
            "bar_style": "success",
            "description": "",
            "description_tooltip": null,
            "layout": "IPY_MODEL_baf2a1ce5dd44e518cff2d859f19d59e",
            "max": 313,
            "min": 0,
            "orientation": "horizontal",
            "style": "IPY_MODEL_e377111ab9b74fb4b2d8c50d0e01d077",
            "value": 313
          }
        },
        "6b2c4c7ff0484881a15a858c03061b17": {
          "model_module": "@jupyter-widgets/controls",
          "model_name": "HTMLModel",
          "model_module_version": "1.5.0",
          "state": {
            "_dom_classes": [],
            "_model_module": "@jupyter-widgets/controls",
            "_model_module_version": "1.5.0",
            "_model_name": "HTMLModel",
            "_view_count": null,
            "_view_module": "@jupyter-widgets/controls",
            "_view_module_version": "1.5.0",
            "_view_name": "HTMLView",
            "description": "",
            "description_tooltip": null,
            "layout": "IPY_MODEL_0db0c884c7204973936be9295c96fac3",
            "placeholder": "​",
            "style": "IPY_MODEL_00f7f531969040deb2cdbc06632a209c",
            "value": " 313/313 [00:00&lt;00:00, 27.9kB/s]"
          }
        },
        "f8c1f8292adc4754a1c82bd6e7391a4d": {
          "model_module": "@jupyter-widgets/base",
          "model_name": "LayoutModel",
          "model_module_version": "1.2.0",
          "state": {
            "_model_module": "@jupyter-widgets/base",
            "_model_module_version": "1.2.0",
            "_model_name": "LayoutModel",
            "_view_count": null,
            "_view_module": "@jupyter-widgets/base",
            "_view_module_version": "1.2.0",
            "_view_name": "LayoutView",
            "align_content": null,
            "align_items": null,
            "align_self": null,
            "border": null,
            "bottom": null,
            "display": null,
            "flex": null,
            "flex_flow": null,
            "grid_area": null,
            "grid_auto_columns": null,
            "grid_auto_flow": null,
            "grid_auto_rows": null,
            "grid_column": null,
            "grid_gap": null,
            "grid_row": null,
            "grid_template_areas": null,
            "grid_template_columns": null,
            "grid_template_rows": null,
            "height": null,
            "justify_content": null,
            "justify_items": null,
            "left": null,
            "margin": null,
            "max_height": null,
            "max_width": null,
            "min_height": null,
            "min_width": null,
            "object_fit": null,
            "object_position": null,
            "order": null,
            "overflow": null,
            "overflow_x": null,
            "overflow_y": null,
            "padding": null,
            "right": null,
            "top": null,
            "visibility": null,
            "width": null
          }
        },
        "57b61f6c177f47149c71351108172107": {
          "model_module": "@jupyter-widgets/base",
          "model_name": "LayoutModel",
          "model_module_version": "1.2.0",
          "state": {
            "_model_module": "@jupyter-widgets/base",
            "_model_module_version": "1.2.0",
            "_model_name": "LayoutModel",
            "_view_count": null,
            "_view_module": "@jupyter-widgets/base",
            "_view_module_version": "1.2.0",
            "_view_name": "LayoutView",
            "align_content": null,
            "align_items": null,
            "align_self": null,
            "border": null,
            "bottom": null,
            "display": null,
            "flex": null,
            "flex_flow": null,
            "grid_area": null,
            "grid_auto_columns": null,
            "grid_auto_flow": null,
            "grid_auto_rows": null,
            "grid_column": null,
            "grid_gap": null,
            "grid_row": null,
            "grid_template_areas": null,
            "grid_template_columns": null,
            "grid_template_rows": null,
            "height": null,
            "justify_content": null,
            "justify_items": null,
            "left": null,
            "margin": null,
            "max_height": null,
            "max_width": null,
            "min_height": null,
            "min_width": null,
            "object_fit": null,
            "object_position": null,
            "order": null,
            "overflow": null,
            "overflow_x": null,
            "overflow_y": null,
            "padding": null,
            "right": null,
            "top": null,
            "visibility": null,
            "width": null
          }
        },
        "22c8b9aaddac4f8c8943439156cc7a4f": {
          "model_module": "@jupyter-widgets/controls",
          "model_name": "DescriptionStyleModel",
          "model_module_version": "1.5.0",
          "state": {
            "_model_module": "@jupyter-widgets/controls",
            "_model_module_version": "1.5.0",
            "_model_name": "DescriptionStyleModel",
            "_view_count": null,
            "_view_module": "@jupyter-widgets/base",
            "_view_module_version": "1.2.0",
            "_view_name": "StyleView",
            "description_width": ""
          }
        },
        "baf2a1ce5dd44e518cff2d859f19d59e": {
          "model_module": "@jupyter-widgets/base",
          "model_name": "LayoutModel",
          "model_module_version": "1.2.0",
          "state": {
            "_model_module": "@jupyter-widgets/base",
            "_model_module_version": "1.2.0",
            "_model_name": "LayoutModel",
            "_view_count": null,
            "_view_module": "@jupyter-widgets/base",
            "_view_module_version": "1.2.0",
            "_view_name": "LayoutView",
            "align_content": null,
            "align_items": null,
            "align_self": null,
            "border": null,
            "bottom": null,
            "display": null,
            "flex": null,
            "flex_flow": null,
            "grid_area": null,
            "grid_auto_columns": null,
            "grid_auto_flow": null,
            "grid_auto_rows": null,
            "grid_column": null,
            "grid_gap": null,
            "grid_row": null,
            "grid_template_areas": null,
            "grid_template_columns": null,
            "grid_template_rows": null,
            "height": null,
            "justify_content": null,
            "justify_items": null,
            "left": null,
            "margin": null,
            "max_height": null,
            "max_width": null,
            "min_height": null,
            "min_width": null,
            "object_fit": null,
            "object_position": null,
            "order": null,
            "overflow": null,
            "overflow_x": null,
            "overflow_y": null,
            "padding": null,
            "right": null,
            "top": null,
            "visibility": null,
            "width": null
          }
        },
        "e377111ab9b74fb4b2d8c50d0e01d077": {
          "model_module": "@jupyter-widgets/controls",
          "model_name": "ProgressStyleModel",
          "model_module_version": "1.5.0",
          "state": {
            "_model_module": "@jupyter-widgets/controls",
            "_model_module_version": "1.5.0",
            "_model_name": "ProgressStyleModel",
            "_view_count": null,
            "_view_module": "@jupyter-widgets/base",
            "_view_module_version": "1.2.0",
            "_view_name": "StyleView",
            "bar_color": null,
            "description_width": ""
          }
        },
        "0db0c884c7204973936be9295c96fac3": {
          "model_module": "@jupyter-widgets/base",
          "model_name": "LayoutModel",
          "model_module_version": "1.2.0",
          "state": {
            "_model_module": "@jupyter-widgets/base",
            "_model_module_version": "1.2.0",
            "_model_name": "LayoutModel",
            "_view_count": null,
            "_view_module": "@jupyter-widgets/base",
            "_view_module_version": "1.2.0",
            "_view_name": "LayoutView",
            "align_content": null,
            "align_items": null,
            "align_self": null,
            "border": null,
            "bottom": null,
            "display": null,
            "flex": null,
            "flex_flow": null,
            "grid_area": null,
            "grid_auto_columns": null,
            "grid_auto_flow": null,
            "grid_auto_rows": null,
            "grid_column": null,
            "grid_gap": null,
            "grid_row": null,
            "grid_template_areas": null,
            "grid_template_columns": null,
            "grid_template_rows": null,
            "height": null,
            "justify_content": null,
            "justify_items": null,
            "left": null,
            "margin": null,
            "max_height": null,
            "max_width": null,
            "min_height": null,
            "min_width": null,
            "object_fit": null,
            "object_position": null,
            "order": null,
            "overflow": null,
            "overflow_x": null,
            "overflow_y": null,
            "padding": null,
            "right": null,
            "top": null,
            "visibility": null,
            "width": null
          }
        },
        "00f7f531969040deb2cdbc06632a209c": {
          "model_module": "@jupyter-widgets/controls",
          "model_name": "DescriptionStyleModel",
          "model_module_version": "1.5.0",
          "state": {
            "_model_module": "@jupyter-widgets/controls",
            "_model_module_version": "1.5.0",
            "_model_name": "DescriptionStyleModel",
            "_view_count": null,
            "_view_module": "@jupyter-widgets/base",
            "_view_module_version": "1.2.0",
            "_view_name": "StyleView",
            "description_width": ""
          }
        },
        "62a761a215c847ce9107753e2baefd77": {
          "model_module": "@jupyter-widgets/controls",
          "model_name": "HBoxModel",
          "model_module_version": "1.5.0",
          "state": {
            "_dom_classes": [],
            "_model_module": "@jupyter-widgets/controls",
            "_model_module_version": "1.5.0",
            "_model_name": "HBoxModel",
            "_view_count": null,
            "_view_module": "@jupyter-widgets/controls",
            "_view_module_version": "1.5.0",
            "_view_name": "HBoxView",
            "box_style": "",
            "children": [
              "IPY_MODEL_ab0c524cbb0a4166a17164c05564c270",
              "IPY_MODEL_f2f605a56b21426d89b1d482a1b35993",
              "IPY_MODEL_18ef70140f6e4915aaf4e36dd59eab45"
            ],
            "layout": "IPY_MODEL_1aa710be2101454e91022973d533b009"
          }
        },
        "ab0c524cbb0a4166a17164c05564c270": {
          "model_module": "@jupyter-widgets/controls",
          "model_name": "HTMLModel",
          "model_module_version": "1.5.0",
          "state": {
            "_dom_classes": [],
            "_model_module": "@jupyter-widgets/controls",
            "_model_module_version": "1.5.0",
            "_model_name": "HTMLModel",
            "_view_count": null,
            "_view_module": "@jupyter-widgets/controls",
            "_view_module_version": "1.5.0",
            "_view_name": "HTMLView",
            "description": "",
            "description_tooltip": null,
            "layout": "IPY_MODEL_9d708b284f6a4159bfc115f777feecac",
            "placeholder": "​",
            "style": "IPY_MODEL_a07668d9d72146b19d4b589d21d3f154",
            "value": "vocab.txt: "
          }
        },
        "f2f605a56b21426d89b1d482a1b35993": {
          "model_module": "@jupyter-widgets/controls",
          "model_name": "FloatProgressModel",
          "model_module_version": "1.5.0",
          "state": {
            "_dom_classes": [],
            "_model_module": "@jupyter-widgets/controls",
            "_model_module_version": "1.5.0",
            "_model_name": "FloatProgressModel",
            "_view_count": null,
            "_view_module": "@jupyter-widgets/controls",
            "_view_module_version": "1.5.0",
            "_view_name": "ProgressView",
            "bar_style": "success",
            "description": "",
            "description_tooltip": null,
            "layout": "IPY_MODEL_c10aecb2775b41e2989ae31ae416e300",
            "max": 1,
            "min": 0,
            "orientation": "horizontal",
            "style": "IPY_MODEL_2b54fb8edd034603a0fc8e10f7c69e79",
            "value": 1
          }
        },
        "18ef70140f6e4915aaf4e36dd59eab45": {
          "model_module": "@jupyter-widgets/controls",
          "model_name": "HTMLModel",
          "model_module_version": "1.5.0",
          "state": {
            "_dom_classes": [],
            "_model_module": "@jupyter-widgets/controls",
            "_model_module_version": "1.5.0",
            "_model_name": "HTMLModel",
            "_view_count": null,
            "_view_module": "@jupyter-widgets/controls",
            "_view_module_version": "1.5.0",
            "_view_name": "HTMLView",
            "description": "",
            "description_tooltip": null,
            "layout": "IPY_MODEL_d430c080cf1f4b709076db9ab09e36aa",
            "placeholder": "​",
            "style": "IPY_MODEL_173cb39bc9a549a88eed8e081d9f6f57",
            "value": " 213k/? [00:00&lt;00:00, 1.63MB/s]"
          }
        },
        "1aa710be2101454e91022973d533b009": {
          "model_module": "@jupyter-widgets/base",
          "model_name": "LayoutModel",
          "model_module_version": "1.2.0",
          "state": {
            "_model_module": "@jupyter-widgets/base",
            "_model_module_version": "1.2.0",
            "_model_name": "LayoutModel",
            "_view_count": null,
            "_view_module": "@jupyter-widgets/base",
            "_view_module_version": "1.2.0",
            "_view_name": "LayoutView",
            "align_content": null,
            "align_items": null,
            "align_self": null,
            "border": null,
            "bottom": null,
            "display": null,
            "flex": null,
            "flex_flow": null,
            "grid_area": null,
            "grid_auto_columns": null,
            "grid_auto_flow": null,
            "grid_auto_rows": null,
            "grid_column": null,
            "grid_gap": null,
            "grid_row": null,
            "grid_template_areas": null,
            "grid_template_columns": null,
            "grid_template_rows": null,
            "height": null,
            "justify_content": null,
            "justify_items": null,
            "left": null,
            "margin": null,
            "max_height": null,
            "max_width": null,
            "min_height": null,
            "min_width": null,
            "object_fit": null,
            "object_position": null,
            "order": null,
            "overflow": null,
            "overflow_x": null,
            "overflow_y": null,
            "padding": null,
            "right": null,
            "top": null,
            "visibility": null,
            "width": null
          }
        },
        "9d708b284f6a4159bfc115f777feecac": {
          "model_module": "@jupyter-widgets/base",
          "model_name": "LayoutModel",
          "model_module_version": "1.2.0",
          "state": {
            "_model_module": "@jupyter-widgets/base",
            "_model_module_version": "1.2.0",
            "_model_name": "LayoutModel",
            "_view_count": null,
            "_view_module": "@jupyter-widgets/base",
            "_view_module_version": "1.2.0",
            "_view_name": "LayoutView",
            "align_content": null,
            "align_items": null,
            "align_self": null,
            "border": null,
            "bottom": null,
            "display": null,
            "flex": null,
            "flex_flow": null,
            "grid_area": null,
            "grid_auto_columns": null,
            "grid_auto_flow": null,
            "grid_auto_rows": null,
            "grid_column": null,
            "grid_gap": null,
            "grid_row": null,
            "grid_template_areas": null,
            "grid_template_columns": null,
            "grid_template_rows": null,
            "height": null,
            "justify_content": null,
            "justify_items": null,
            "left": null,
            "margin": null,
            "max_height": null,
            "max_width": null,
            "min_height": null,
            "min_width": null,
            "object_fit": null,
            "object_position": null,
            "order": null,
            "overflow": null,
            "overflow_x": null,
            "overflow_y": null,
            "padding": null,
            "right": null,
            "top": null,
            "visibility": null,
            "width": null
          }
        },
        "a07668d9d72146b19d4b589d21d3f154": {
          "model_module": "@jupyter-widgets/controls",
          "model_name": "DescriptionStyleModel",
          "model_module_version": "1.5.0",
          "state": {
            "_model_module": "@jupyter-widgets/controls",
            "_model_module_version": "1.5.0",
            "_model_name": "DescriptionStyleModel",
            "_view_count": null,
            "_view_module": "@jupyter-widgets/base",
            "_view_module_version": "1.2.0",
            "_view_name": "StyleView",
            "description_width": ""
          }
        },
        "c10aecb2775b41e2989ae31ae416e300": {
          "model_module": "@jupyter-widgets/base",
          "model_name": "LayoutModel",
          "model_module_version": "1.2.0",
          "state": {
            "_model_module": "@jupyter-widgets/base",
            "_model_module_version": "1.2.0",
            "_model_name": "LayoutModel",
            "_view_count": null,
            "_view_module": "@jupyter-widgets/base",
            "_view_module_version": "1.2.0",
            "_view_name": "LayoutView",
            "align_content": null,
            "align_items": null,
            "align_self": null,
            "border": null,
            "bottom": null,
            "display": null,
            "flex": null,
            "flex_flow": null,
            "grid_area": null,
            "grid_auto_columns": null,
            "grid_auto_flow": null,
            "grid_auto_rows": null,
            "grid_column": null,
            "grid_gap": null,
            "grid_row": null,
            "grid_template_areas": null,
            "grid_template_columns": null,
            "grid_template_rows": null,
            "height": null,
            "justify_content": null,
            "justify_items": null,
            "left": null,
            "margin": null,
            "max_height": null,
            "max_width": null,
            "min_height": null,
            "min_width": null,
            "object_fit": null,
            "object_position": null,
            "order": null,
            "overflow": null,
            "overflow_x": null,
            "overflow_y": null,
            "padding": null,
            "right": null,
            "top": null,
            "visibility": null,
            "width": "20px"
          }
        },
        "2b54fb8edd034603a0fc8e10f7c69e79": {
          "model_module": "@jupyter-widgets/controls",
          "model_name": "ProgressStyleModel",
          "model_module_version": "1.5.0",
          "state": {
            "_model_module": "@jupyter-widgets/controls",
            "_model_module_version": "1.5.0",
            "_model_name": "ProgressStyleModel",
            "_view_count": null,
            "_view_module": "@jupyter-widgets/base",
            "_view_module_version": "1.2.0",
            "_view_name": "StyleView",
            "bar_color": null,
            "description_width": ""
          }
        },
        "d430c080cf1f4b709076db9ab09e36aa": {
          "model_module": "@jupyter-widgets/base",
          "model_name": "LayoutModel",
          "model_module_version": "1.2.0",
          "state": {
            "_model_module": "@jupyter-widgets/base",
            "_model_module_version": "1.2.0",
            "_model_name": "LayoutModel",
            "_view_count": null,
            "_view_module": "@jupyter-widgets/base",
            "_view_module_version": "1.2.0",
            "_view_name": "LayoutView",
            "align_content": null,
            "align_items": null,
            "align_self": null,
            "border": null,
            "bottom": null,
            "display": null,
            "flex": null,
            "flex_flow": null,
            "grid_area": null,
            "grid_auto_columns": null,
            "grid_auto_flow": null,
            "grid_auto_rows": null,
            "grid_column": null,
            "grid_gap": null,
            "grid_row": null,
            "grid_template_areas": null,
            "grid_template_columns": null,
            "grid_template_rows": null,
            "height": null,
            "justify_content": null,
            "justify_items": null,
            "left": null,
            "margin": null,
            "max_height": null,
            "max_width": null,
            "min_height": null,
            "min_width": null,
            "object_fit": null,
            "object_position": null,
            "order": null,
            "overflow": null,
            "overflow_x": null,
            "overflow_y": null,
            "padding": null,
            "right": null,
            "top": null,
            "visibility": null,
            "width": null
          }
        },
        "173cb39bc9a549a88eed8e081d9f6f57": {
          "model_module": "@jupyter-widgets/controls",
          "model_name": "DescriptionStyleModel",
          "model_module_version": "1.5.0",
          "state": {
            "_model_module": "@jupyter-widgets/controls",
            "_model_module_version": "1.5.0",
            "_model_name": "DescriptionStyleModel",
            "_view_count": null,
            "_view_module": "@jupyter-widgets/base",
            "_view_module_version": "1.2.0",
            "_view_name": "StyleView",
            "description_width": ""
          }
        },
        "9b0288d8fc8a47309b0030ad73180a22": {
          "model_module": "@jupyter-widgets/controls",
          "model_name": "HBoxModel",
          "model_module_version": "1.5.0",
          "state": {
            "_dom_classes": [],
            "_model_module": "@jupyter-widgets/controls",
            "_model_module_version": "1.5.0",
            "_model_name": "HBoxModel",
            "_view_count": null,
            "_view_module": "@jupyter-widgets/controls",
            "_view_module_version": "1.5.0",
            "_view_name": "HBoxView",
            "box_style": "",
            "children": [
              "IPY_MODEL_dba7a04103234e77bc4a29a91b64fdc4",
              "IPY_MODEL_409542c87e084674b2dc9b33d85316f5",
              "IPY_MODEL_3fab4a4c98aa49a59766f52294593013"
            ],
            "layout": "IPY_MODEL_913ff78df79c4a6a91f480db0ba293be"
          }
        },
        "dba7a04103234e77bc4a29a91b64fdc4": {
          "model_module": "@jupyter-widgets/controls",
          "model_name": "HTMLModel",
          "model_module_version": "1.5.0",
          "state": {
            "_dom_classes": [],
            "_model_module": "@jupyter-widgets/controls",
            "_model_module_version": "1.5.0",
            "_model_name": "HTMLModel",
            "_view_count": null,
            "_view_module": "@jupyter-widgets/controls",
            "_view_module_version": "1.5.0",
            "_view_name": "HTMLView",
            "description": "",
            "description_tooltip": null,
            "layout": "IPY_MODEL_f481779b7f544193bf5ce2ebd32ac6ea",
            "placeholder": "​",
            "style": "IPY_MODEL_23649c9683134d608ca717fb2329aaeb",
            "value": "pytorch_model.bin: 100%"
          }
        },
        "409542c87e084674b2dc9b33d85316f5": {
          "model_module": "@jupyter-widgets/controls",
          "model_name": "FloatProgressModel",
          "model_module_version": "1.5.0",
          "state": {
            "_dom_classes": [],
            "_model_module": "@jupyter-widgets/controls",
            "_model_module_version": "1.5.0",
            "_model_name": "FloatProgressModel",
            "_view_count": null,
            "_view_module": "@jupyter-widgets/controls",
            "_view_module_version": "1.5.0",
            "_view_name": "ProgressView",
            "bar_style": "success",
            "description": "",
            "description_tooltip": null,
            "layout": "IPY_MODEL_30d26aa733cb455f972a4e50dc522d45",
            "max": 435780550,
            "min": 0,
            "orientation": "horizontal",
            "style": "IPY_MODEL_393ee241dc144be2b2052bd9ce0ddd62",
            "value": 435780550
          }
        },
        "3fab4a4c98aa49a59766f52294593013": {
          "model_module": "@jupyter-widgets/controls",
          "model_name": "HTMLModel",
          "model_module_version": "1.5.0",
          "state": {
            "_dom_classes": [],
            "_model_module": "@jupyter-widgets/controls",
            "_model_module_version": "1.5.0",
            "_model_name": "HTMLModel",
            "_view_count": null,
            "_view_module": "@jupyter-widgets/controls",
            "_view_module_version": "1.5.0",
            "_view_name": "HTMLView",
            "description": "",
            "description_tooltip": null,
            "layout": "IPY_MODEL_8f344475a4454d258a4eca6e3375846d",
            "placeholder": "​",
            "style": "IPY_MODEL_b50dc580c5d740e2b5a26f26b814540a",
            "value": " 436M/436M [00:07&lt;00:00, 66.1MB/s]"
          }
        },
        "913ff78df79c4a6a91f480db0ba293be": {
          "model_module": "@jupyter-widgets/base",
          "model_name": "LayoutModel",
          "model_module_version": "1.2.0",
          "state": {
            "_model_module": "@jupyter-widgets/base",
            "_model_module_version": "1.2.0",
            "_model_name": "LayoutModel",
            "_view_count": null,
            "_view_module": "@jupyter-widgets/base",
            "_view_module_version": "1.2.0",
            "_view_name": "LayoutView",
            "align_content": null,
            "align_items": null,
            "align_self": null,
            "border": null,
            "bottom": null,
            "display": null,
            "flex": null,
            "flex_flow": null,
            "grid_area": null,
            "grid_auto_columns": null,
            "grid_auto_flow": null,
            "grid_auto_rows": null,
            "grid_column": null,
            "grid_gap": null,
            "grid_row": null,
            "grid_template_areas": null,
            "grid_template_columns": null,
            "grid_template_rows": null,
            "height": null,
            "justify_content": null,
            "justify_items": null,
            "left": null,
            "margin": null,
            "max_height": null,
            "max_width": null,
            "min_height": null,
            "min_width": null,
            "object_fit": null,
            "object_position": null,
            "order": null,
            "overflow": null,
            "overflow_x": null,
            "overflow_y": null,
            "padding": null,
            "right": null,
            "top": null,
            "visibility": null,
            "width": null
          }
        },
        "f481779b7f544193bf5ce2ebd32ac6ea": {
          "model_module": "@jupyter-widgets/base",
          "model_name": "LayoutModel",
          "model_module_version": "1.2.0",
          "state": {
            "_model_module": "@jupyter-widgets/base",
            "_model_module_version": "1.2.0",
            "_model_name": "LayoutModel",
            "_view_count": null,
            "_view_module": "@jupyter-widgets/base",
            "_view_module_version": "1.2.0",
            "_view_name": "LayoutView",
            "align_content": null,
            "align_items": null,
            "align_self": null,
            "border": null,
            "bottom": null,
            "display": null,
            "flex": null,
            "flex_flow": null,
            "grid_area": null,
            "grid_auto_columns": null,
            "grid_auto_flow": null,
            "grid_auto_rows": null,
            "grid_column": null,
            "grid_gap": null,
            "grid_row": null,
            "grid_template_areas": null,
            "grid_template_columns": null,
            "grid_template_rows": null,
            "height": null,
            "justify_content": null,
            "justify_items": null,
            "left": null,
            "margin": null,
            "max_height": null,
            "max_width": null,
            "min_height": null,
            "min_width": null,
            "object_fit": null,
            "object_position": null,
            "order": null,
            "overflow": null,
            "overflow_x": null,
            "overflow_y": null,
            "padding": null,
            "right": null,
            "top": null,
            "visibility": null,
            "width": null
          }
        },
        "23649c9683134d608ca717fb2329aaeb": {
          "model_module": "@jupyter-widgets/controls",
          "model_name": "DescriptionStyleModel",
          "model_module_version": "1.5.0",
          "state": {
            "_model_module": "@jupyter-widgets/controls",
            "_model_module_version": "1.5.0",
            "_model_name": "DescriptionStyleModel",
            "_view_count": null,
            "_view_module": "@jupyter-widgets/base",
            "_view_module_version": "1.2.0",
            "_view_name": "StyleView",
            "description_width": ""
          }
        },
        "30d26aa733cb455f972a4e50dc522d45": {
          "model_module": "@jupyter-widgets/base",
          "model_name": "LayoutModel",
          "model_module_version": "1.2.0",
          "state": {
            "_model_module": "@jupyter-widgets/base",
            "_model_module_version": "1.2.0",
            "_model_name": "LayoutModel",
            "_view_count": null,
            "_view_module": "@jupyter-widgets/base",
            "_view_module_version": "1.2.0",
            "_view_name": "LayoutView",
            "align_content": null,
            "align_items": null,
            "align_self": null,
            "border": null,
            "bottom": null,
            "display": null,
            "flex": null,
            "flex_flow": null,
            "grid_area": null,
            "grid_auto_columns": null,
            "grid_auto_flow": null,
            "grid_auto_rows": null,
            "grid_column": null,
            "grid_gap": null,
            "grid_row": null,
            "grid_template_areas": null,
            "grid_template_columns": null,
            "grid_template_rows": null,
            "height": null,
            "justify_content": null,
            "justify_items": null,
            "left": null,
            "margin": null,
            "max_height": null,
            "max_width": null,
            "min_height": null,
            "min_width": null,
            "object_fit": null,
            "object_position": null,
            "order": null,
            "overflow": null,
            "overflow_x": null,
            "overflow_y": null,
            "padding": null,
            "right": null,
            "top": null,
            "visibility": null,
            "width": null
          }
        },
        "393ee241dc144be2b2052bd9ce0ddd62": {
          "model_module": "@jupyter-widgets/controls",
          "model_name": "ProgressStyleModel",
          "model_module_version": "1.5.0",
          "state": {
            "_model_module": "@jupyter-widgets/controls",
            "_model_module_version": "1.5.0",
            "_model_name": "ProgressStyleModel",
            "_view_count": null,
            "_view_module": "@jupyter-widgets/base",
            "_view_module_version": "1.2.0",
            "_view_name": "StyleView",
            "bar_color": null,
            "description_width": ""
          }
        },
        "8f344475a4454d258a4eca6e3375846d": {
          "model_module": "@jupyter-widgets/base",
          "model_name": "LayoutModel",
          "model_module_version": "1.2.0",
          "state": {
            "_model_module": "@jupyter-widgets/base",
            "_model_module_version": "1.2.0",
            "_model_name": "LayoutModel",
            "_view_count": null,
            "_view_module": "@jupyter-widgets/base",
            "_view_module_version": "1.2.0",
            "_view_name": "LayoutView",
            "align_content": null,
            "align_items": null,
            "align_self": null,
            "border": null,
            "bottom": null,
            "display": null,
            "flex": null,
            "flex_flow": null,
            "grid_area": null,
            "grid_auto_columns": null,
            "grid_auto_flow": null,
            "grid_auto_rows": null,
            "grid_column": null,
            "grid_gap": null,
            "grid_row": null,
            "grid_template_areas": null,
            "grid_template_columns": null,
            "grid_template_rows": null,
            "height": null,
            "justify_content": null,
            "justify_items": null,
            "left": null,
            "margin": null,
            "max_height": null,
            "max_width": null,
            "min_height": null,
            "min_width": null,
            "object_fit": null,
            "object_position": null,
            "order": null,
            "overflow": null,
            "overflow_x": null,
            "overflow_y": null,
            "padding": null,
            "right": null,
            "top": null,
            "visibility": null,
            "width": null
          }
        },
        "b50dc580c5d740e2b5a26f26b814540a": {
          "model_module": "@jupyter-widgets/controls",
          "model_name": "DescriptionStyleModel",
          "model_module_version": "1.5.0",
          "state": {
            "_model_module": "@jupyter-widgets/controls",
            "_model_module_version": "1.5.0",
            "_model_name": "DescriptionStyleModel",
            "_view_count": null,
            "_view_module": "@jupyter-widgets/base",
            "_view_module_version": "1.2.0",
            "_view_name": "StyleView",
            "description_width": ""
          }
        }
      }
    }
  },
  "cells": [
    {
      "cell_type": "markdown",
      "metadata": {
        "id": "view-in-github",
        "colab_type": "text"
      },
      "source": [
        "<a href=\"https://colab.research.google.com/github/EkataU/-Recognizing-hand_written/blob/main/patient_health.ipynb\" target=\"_parent\"><img src=\"https://colab.research.google.com/assets/colab-badge.svg\" alt=\"Open In Colab\"/></a>"
      ]
    },
    {
      "cell_type": "markdown",
      "source": [
        "## Import libraries"
      ],
      "metadata": {
        "id": "NJTeT7S6oESM"
      }
    },
    {
      "cell_type": "code",
      "source": [
        "import pandas as pd\n",
        "import re"
      ],
      "metadata": {
        "id": "WsC_XLG6vboV"
      },
      "execution_count": null,
      "outputs": []
    },
    {
      "cell_type": "markdown",
      "source": [
        "## Dataset :https://huggingface.co/datasets/ncbi/Open-Patients\n"
      ],
      "metadata": {
        "id": "N7ozB9uJogHD"
      }
    },
    {
      "cell_type": "code",
      "source": [
        "df = pd.read_json(\"hf://datasets/ncbi/Open-Patients/Open-Patients.jsonl\", lines=True)"
      ],
      "metadata": {
        "id": "2nUtARqFvug4",
        "colab": {
          "base_uri": "https://localhost:8080/"
        },
        "outputId": "4fef846e-fda4-41f7-f444-d5892c1526ea"
      },
      "execution_count": null,
      "outputs": [
        {
          "output_type": "stream",
          "name": "stderr",
          "text": [
            "/usr/local/lib/python3.11/dist-packages/huggingface_hub/utils/_auth.py:94: UserWarning: \n",
            "The secret `HF_TOKEN` does not exist in your Colab secrets.\n",
            "To authenticate with the Hugging Face Hub, create a token in your settings tab (https://huggingface.co/settings/tokens), set it as secret in your Google Colab and restart your session.\n",
            "You will be able to reuse this secret in all of your notebooks.\n",
            "Please note that authentication is recommended but still optional to access public models or datasets.\n",
            "  warnings.warn(\n"
          ]
        }
      ]
    },
    {
      "cell_type": "code",
      "source": [
        "print(f\"Total records: {len(df)}\")\n",
        "print(df.columns)"
      ],
      "metadata": {
        "colab": {
          "base_uri": "https://localhost:8080/"
        },
        "id": "ku-s402cv-nr",
        "outputId": "a8cd71e9-aa08-4f42-af3c-84a8dc4c5366"
      },
      "execution_count": null,
      "outputs": [
        {
          "output_type": "stream",
          "name": "stdout",
          "text": [
            "Total records: 180142\n",
            "Index(['_id', 'description'], dtype='object')\n"
          ]
        }
      ]
    },
    {
      "cell_type": "code",
      "source": [
        "sampled_df = df.sample(5)"
      ],
      "metadata": {
        "id": "e17qy14CwCrs"
      },
      "execution_count": null,
      "outputs": []
    },
    {
      "cell_type": "code",
      "source": [
        "## descriptions = df[\"description\"].tolist()"
      ],
      "metadata": {
        "id": "oRB4Dciewd6v"
      },
      "execution_count": null,
      "outputs": []
    },
    {
      "cell_type": "code",
      "source": [
        "sampled_df.head()\n"
      ],
      "metadata": {
        "id": "YZDKYqILd5yg",
        "colab": {
          "base_uri": "https://localhost:8080/",
          "height": 206
        },
        "outputId": "17e66d02-1360-4097-d7fa-6be49f4b4a1e"
      },
      "execution_count": null,
      "outputs": [
        {
          "output_type": "execute_result",
          "data": {
            "text/plain": [
              "                  _id                                        description\n",
              "49261   pmc-8084036-1  A 71-year-old man suddenly lost consciousness ...\n",
              "75905   pmc-4067881-1  Twenty-year-old man with Scimitar syndrome was...\n",
              "95980   pmc-2967834-1  A 31-year-old man was admitted to our departme...\n",
              "170421     usmle-3172  A 26-year-old woman comes to the physician bec...\n",
              "105960  pmc-7953974-1  A 65-year-old man with a known history of hype..."
            ],
            "text/html": [
              "\n",
              "  <div id=\"df-e0a43fad-12c5-447b-91e2-c2a99196dcfc\" class=\"colab-df-container\">\n",
              "    <div>\n",
              "<style scoped>\n",
              "    .dataframe tbody tr th:only-of-type {\n",
              "        vertical-align: middle;\n",
              "    }\n",
              "\n",
              "    .dataframe tbody tr th {\n",
              "        vertical-align: top;\n",
              "    }\n",
              "\n",
              "    .dataframe thead th {\n",
              "        text-align: right;\n",
              "    }\n",
              "</style>\n",
              "<table border=\"1\" class=\"dataframe\">\n",
              "  <thead>\n",
              "    <tr style=\"text-align: right;\">\n",
              "      <th></th>\n",
              "      <th>_id</th>\n",
              "      <th>description</th>\n",
              "    </tr>\n",
              "  </thead>\n",
              "  <tbody>\n",
              "    <tr>\n",
              "      <th>49261</th>\n",
              "      <td>pmc-8084036-1</td>\n",
              "      <td>A 71-year-old man suddenly lost consciousness ...</td>\n",
              "    </tr>\n",
              "    <tr>\n",
              "      <th>75905</th>\n",
              "      <td>pmc-4067881-1</td>\n",
              "      <td>Twenty-year-old man with Scimitar syndrome was...</td>\n",
              "    </tr>\n",
              "    <tr>\n",
              "      <th>95980</th>\n",
              "      <td>pmc-2967834-1</td>\n",
              "      <td>A 31-year-old man was admitted to our departme...</td>\n",
              "    </tr>\n",
              "    <tr>\n",
              "      <th>170421</th>\n",
              "      <td>usmle-3172</td>\n",
              "      <td>A 26-year-old woman comes to the physician bec...</td>\n",
              "    </tr>\n",
              "    <tr>\n",
              "      <th>105960</th>\n",
              "      <td>pmc-7953974-1</td>\n",
              "      <td>A 65-year-old man with a known history of hype...</td>\n",
              "    </tr>\n",
              "  </tbody>\n",
              "</table>\n",
              "</div>\n",
              "    <div class=\"colab-df-buttons\">\n",
              "\n",
              "  <div class=\"colab-df-container\">\n",
              "    <button class=\"colab-df-convert\" onclick=\"convertToInteractive('df-e0a43fad-12c5-447b-91e2-c2a99196dcfc')\"\n",
              "            title=\"Convert this dataframe to an interactive table.\"\n",
              "            style=\"display:none;\">\n",
              "\n",
              "  <svg xmlns=\"http://www.w3.org/2000/svg\" height=\"24px\" viewBox=\"0 -960 960 960\">\n",
              "    <path d=\"M120-120v-720h720v720H120Zm60-500h600v-160H180v160Zm220 220h160v-160H400v160Zm0 220h160v-160H400v160ZM180-400h160v-160H180v160Zm440 0h160v-160H620v160ZM180-180h160v-160H180v160Zm440 0h160v-160H620v160Z\"/>\n",
              "  </svg>\n",
              "    </button>\n",
              "\n",
              "  <style>\n",
              "    .colab-df-container {\n",
              "      display:flex;\n",
              "      gap: 12px;\n",
              "    }\n",
              "\n",
              "    .colab-df-convert {\n",
              "      background-color: #E8F0FE;\n",
              "      border: none;\n",
              "      border-radius: 50%;\n",
              "      cursor: pointer;\n",
              "      display: none;\n",
              "      fill: #1967D2;\n",
              "      height: 32px;\n",
              "      padding: 0 0 0 0;\n",
              "      width: 32px;\n",
              "    }\n",
              "\n",
              "    .colab-df-convert:hover {\n",
              "      background-color: #E2EBFA;\n",
              "      box-shadow: 0px 1px 2px rgba(60, 64, 67, 0.3), 0px 1px 3px 1px rgba(60, 64, 67, 0.15);\n",
              "      fill: #174EA6;\n",
              "    }\n",
              "\n",
              "    .colab-df-buttons div {\n",
              "      margin-bottom: 4px;\n",
              "    }\n",
              "\n",
              "    [theme=dark] .colab-df-convert {\n",
              "      background-color: #3B4455;\n",
              "      fill: #D2E3FC;\n",
              "    }\n",
              "\n",
              "    [theme=dark] .colab-df-convert:hover {\n",
              "      background-color: #434B5C;\n",
              "      box-shadow: 0px 1px 3px 1px rgba(0, 0, 0, 0.15);\n",
              "      filter: drop-shadow(0px 1px 2px rgba(0, 0, 0, 0.3));\n",
              "      fill: #FFFFFF;\n",
              "    }\n",
              "  </style>\n",
              "\n",
              "    <script>\n",
              "      const buttonEl =\n",
              "        document.querySelector('#df-e0a43fad-12c5-447b-91e2-c2a99196dcfc button.colab-df-convert');\n",
              "      buttonEl.style.display =\n",
              "        google.colab.kernel.accessAllowed ? 'block' : 'none';\n",
              "\n",
              "      async function convertToInteractive(key) {\n",
              "        const element = document.querySelector('#df-e0a43fad-12c5-447b-91e2-c2a99196dcfc');\n",
              "        const dataTable =\n",
              "          await google.colab.kernel.invokeFunction('convertToInteractive',\n",
              "                                                    [key], {});\n",
              "        if (!dataTable) return;\n",
              "\n",
              "        const docLinkHtml = 'Like what you see? Visit the ' +\n",
              "          '<a target=\"_blank\" href=https://colab.research.google.com/notebooks/data_table.ipynb>data table notebook</a>'\n",
              "          + ' to learn more about interactive tables.';\n",
              "        element.innerHTML = '';\n",
              "        dataTable['output_type'] = 'display_data';\n",
              "        await google.colab.output.renderOutput(dataTable, element);\n",
              "        const docLink = document.createElement('div');\n",
              "        docLink.innerHTML = docLinkHtml;\n",
              "        element.appendChild(docLink);\n",
              "      }\n",
              "    </script>\n",
              "  </div>\n",
              "\n",
              "\n",
              "    <div id=\"df-3d7bd9c2-7cc4-4044-82e1-a39b236802a0\">\n",
              "      <button class=\"colab-df-quickchart\" onclick=\"quickchart('df-3d7bd9c2-7cc4-4044-82e1-a39b236802a0')\"\n",
              "                title=\"Suggest charts\"\n",
              "                style=\"display:none;\">\n",
              "\n",
              "<svg xmlns=\"http://www.w3.org/2000/svg\" height=\"24px\"viewBox=\"0 0 24 24\"\n",
              "     width=\"24px\">\n",
              "    <g>\n",
              "        <path d=\"M19 3H5c-1.1 0-2 .9-2 2v14c0 1.1.9 2 2 2h14c1.1 0 2-.9 2-2V5c0-1.1-.9-2-2-2zM9 17H7v-7h2v7zm4 0h-2V7h2v10zm4 0h-2v-4h2v4z\"/>\n",
              "    </g>\n",
              "</svg>\n",
              "      </button>\n",
              "\n",
              "<style>\n",
              "  .colab-df-quickchart {\n",
              "      --bg-color: #E8F0FE;\n",
              "      --fill-color: #1967D2;\n",
              "      --hover-bg-color: #E2EBFA;\n",
              "      --hover-fill-color: #174EA6;\n",
              "      --disabled-fill-color: #AAA;\n",
              "      --disabled-bg-color: #DDD;\n",
              "  }\n",
              "\n",
              "  [theme=dark] .colab-df-quickchart {\n",
              "      --bg-color: #3B4455;\n",
              "      --fill-color: #D2E3FC;\n",
              "      --hover-bg-color: #434B5C;\n",
              "      --hover-fill-color: #FFFFFF;\n",
              "      --disabled-bg-color: #3B4455;\n",
              "      --disabled-fill-color: #666;\n",
              "  }\n",
              "\n",
              "  .colab-df-quickchart {\n",
              "    background-color: var(--bg-color);\n",
              "    border: none;\n",
              "    border-radius: 50%;\n",
              "    cursor: pointer;\n",
              "    display: none;\n",
              "    fill: var(--fill-color);\n",
              "    height: 32px;\n",
              "    padding: 0;\n",
              "    width: 32px;\n",
              "  }\n",
              "\n",
              "  .colab-df-quickchart:hover {\n",
              "    background-color: var(--hover-bg-color);\n",
              "    box-shadow: 0 1px 2px rgba(60, 64, 67, 0.3), 0 1px 3px 1px rgba(60, 64, 67, 0.15);\n",
              "    fill: var(--button-hover-fill-color);\n",
              "  }\n",
              "\n",
              "  .colab-df-quickchart-complete:disabled,\n",
              "  .colab-df-quickchart-complete:disabled:hover {\n",
              "    background-color: var(--disabled-bg-color);\n",
              "    fill: var(--disabled-fill-color);\n",
              "    box-shadow: none;\n",
              "  }\n",
              "\n",
              "  .colab-df-spinner {\n",
              "    border: 2px solid var(--fill-color);\n",
              "    border-color: transparent;\n",
              "    border-bottom-color: var(--fill-color);\n",
              "    animation:\n",
              "      spin 1s steps(1) infinite;\n",
              "  }\n",
              "\n",
              "  @keyframes spin {\n",
              "    0% {\n",
              "      border-color: transparent;\n",
              "      border-bottom-color: var(--fill-color);\n",
              "      border-left-color: var(--fill-color);\n",
              "    }\n",
              "    20% {\n",
              "      border-color: transparent;\n",
              "      border-left-color: var(--fill-color);\n",
              "      border-top-color: var(--fill-color);\n",
              "    }\n",
              "    30% {\n",
              "      border-color: transparent;\n",
              "      border-left-color: var(--fill-color);\n",
              "      border-top-color: var(--fill-color);\n",
              "      border-right-color: var(--fill-color);\n",
              "    }\n",
              "    40% {\n",
              "      border-color: transparent;\n",
              "      border-right-color: var(--fill-color);\n",
              "      border-top-color: var(--fill-color);\n",
              "    }\n",
              "    60% {\n",
              "      border-color: transparent;\n",
              "      border-right-color: var(--fill-color);\n",
              "    }\n",
              "    80% {\n",
              "      border-color: transparent;\n",
              "      border-right-color: var(--fill-color);\n",
              "      border-bottom-color: var(--fill-color);\n",
              "    }\n",
              "    90% {\n",
              "      border-color: transparent;\n",
              "      border-bottom-color: var(--fill-color);\n",
              "    }\n",
              "  }\n",
              "</style>\n",
              "\n",
              "      <script>\n",
              "        async function quickchart(key) {\n",
              "          const quickchartButtonEl =\n",
              "            document.querySelector('#' + key + ' button');\n",
              "          quickchartButtonEl.disabled = true;  // To prevent multiple clicks.\n",
              "          quickchartButtonEl.classList.add('colab-df-spinner');\n",
              "          try {\n",
              "            const charts = await google.colab.kernel.invokeFunction(\n",
              "                'suggestCharts', [key], {});\n",
              "          } catch (error) {\n",
              "            console.error('Error during call to suggestCharts:', error);\n",
              "          }\n",
              "          quickchartButtonEl.classList.remove('colab-df-spinner');\n",
              "          quickchartButtonEl.classList.add('colab-df-quickchart-complete');\n",
              "        }\n",
              "        (() => {\n",
              "          let quickchartButtonEl =\n",
              "            document.querySelector('#df-3d7bd9c2-7cc4-4044-82e1-a39b236802a0 button');\n",
              "          quickchartButtonEl.style.display =\n",
              "            google.colab.kernel.accessAllowed ? 'block' : 'none';\n",
              "        })();\n",
              "      </script>\n",
              "    </div>\n",
              "\n",
              "    </div>\n",
              "  </div>\n"
            ],
            "application/vnd.google.colaboratory.intrinsic+json": {
              "type": "dataframe",
              "variable_name": "sampled_df",
              "summary": "{\n  \"name\": \"sampled_df\",\n  \"rows\": 5,\n  \"fields\": [\n    {\n      \"column\": \"_id\",\n      \"properties\": {\n        \"dtype\": \"string\",\n        \"num_unique_values\": 5,\n        \"samples\": [\n          \"pmc-4067881-1\",\n          \"pmc-7953974-1\",\n          \"pmc-2967834-1\"\n        ],\n        \"semantic_type\": \"\",\n        \"description\": \"\"\n      }\n    },\n    {\n      \"column\": \"description\",\n      \"properties\": {\n        \"dtype\": \"string\",\n        \"num_unique_values\": 5,\n        \"samples\": [\n          \"Twenty-year-old man with Scimitar syndrome was referred to our department for myocardial perfusion imaging due to complaints of chest pain. The diagnosis of the syndrome was made by contrast-enhanced computed tomography (CT) in this patient. Transaxial () and reconstructed coronal () CT scans of the patient illustrated the vein draining into the inferior vena cava. Transthoracic echocardiogram was performed to evaluate the volume overload of right ventricle in the patient, and it demonstrated the presence of hypertrophied (wall thickness: 11.4 mm) and dilated right ventricle (18.1 cm2) (). Besides, the absence of other cardiac abnormalities that may be associated with the syndrome was also confirmed by this modality. Lung perfusion and ventilation scans were acquired to evaluate presence of sequestration in the right lung. After the intravenous injection of macroaggregated albumin (~400.000 particles) labeled with 5 mCi (185 MBq) Tecnetium-99m, decreased perfusion of the right lung indicating hypoplasia and displacement of the heart without rotation of the apex and the mediastinum to the right () were noticed on planar images recorded in standard eight different projections. Ventilation scan with Tc-99m DTPA aerosols in anterior projection showed normal bronchial communication in the whole lung () and probability of sequestration was eliminated. Thirty minutes after the injection of Tc-99m MIBI at a dose of 20 mCi (740 MBq) during the peak exercise, stress gated SPECT imaging of the heart was performed by using standard acquisition protocol. Although perfusion and systolic functions of the left ventricle (End-diastolic left chamber volume was 125 ml, end-systolic left chamber volume was 49 ml, ejection fraction was 61%) were normal, right ventricular cavity dilatation and right ventricle wall hypertrophy resulting from chronic right heart overload () were noticed on SPECT scans.\",\n          \"A 65-year-old man with a known history of hypertension presented to the emergency department (ED) with a 3-day history of chest pain with the worst onset of chest pain occurring just few hours before admission. On further questioning, patient had experienced exertional angina for 2 months prior to ED visit. He had deliberately avoided medical consultation due to fear of contracting COVID-19 from hospital visit.\\nOn arrival at the ED, his blood pressure was 93/72 mmHg with heart rate of 120 beats per minute. He had a low grade fever of 37.9\\u00b0C. On examination, there were reduced air entry in bilateral lung bases. Heart sounds were dual with no audible murmurs. There were no radio-radial or radio-femoral delays. Electrocardiogram showed ST-elevation in the inferolateral leads (Figure ) and high-sensitivity troponin level was elevated at 13 852 ng/L (normal value 18 ng/L). Chest X-ray showed widened superior mediastinum (Figure ). Transthoracic echocardiogram revealed hypokinesia in the inferoseptal and inferolateral walls with moderately depressed LV ejection fraction of 40%. A moderate size global pericardial effusion was seen with right atrial collapse (Video 1) and plethoric inferior vena cava. He remained hypotensive in the ED despite intravenous fluid challenge and was started on intravenous noradrenaline. Urgent computed tomography aortogram was performed to rule out aortic dissection. This showed contrast leakage at posterolateral LV free wall suggesting possible perforation of the LV wall resulting in haemopericardium and cardiac tamponade (Figure\\n).\\nThe working diagnosis was a delayed presentation of inferoposterior MI with LV wall rupture and cardiac tamponade. Coronary angiogram showed 100% occlusion of the mid left circumflex artery (Video 2). Left ventriculogram (LVgram) showed a small LV pseudoaneurysm (LVP) likely from a contained LV wall rupture (Video 3). An intra-aortic balloon pump was inserted for haemodynamic support. He was immediately transferred to a tertiary centre with cardiothoracic surgery services for emergency surgical repair and drainage of the cardiac tamponade. Operative findings revealed extensive posterolateral infarct of LV wall and a ruptured site covered in fibrin and clots with minimal oozing. This was repaired successfully with a bovine pericardial patch (Figure ). His condition stabilised post-operatively and he was discharged from hospital on Day 20. He remained clinically well and asymptomatic at 4 months of follow-up.\",\n          \"A 31-year-old man was admitted to our department in April 2009 with the history of right upper abdominal pain, fever, and bilious vomiting. In his medical history, there was a posttraumatic splenic hematoma in August 2007 which required splenectomy. No tuberculosis exposure was mentioned. Physical examination revealed a body temperature to 38\\u00b0 and a painful mass over the right flank region. Laboratory results revealed an increased erythrocyte sedimentation rate (120 mm/1\\u00b0) and C-reactive protein (80 mg/L) associated with leucocytosis (19000/mm3, 83% neutrophils, and 7% lymphocytes), mild anaemia (haemoglobin 11,2 g/dL), and thrombocytosis (platelets = 773000/UL). Liver function tests, blood urea nitrogen, and serum creatinin were within normal limits. A chest film was normal.\\nAn abdominal computed tomography revealed a large cystic retroperitoneal mass (184 \\u00d7 126 mm) extending from the flank to right iliac fossa, pushing the right colon anteriorly, surrounding the anterior sides of the abdominal aorta and the inferior vena cava. It is located behind duodenum, ahead the kidney and under the liver, without signs of invasion and without lymph node involvement. The lesion had spontaneous density between 12 and 30 Hounsfield units. There was a complete enhancement of the lesion ().\\nAn MR scan revealed a cystic mass, hypointense in T1, and hyperintense in T2 with an enhancement of the entire lesion ().\\nPercutaneous aspiration of the mass, under sonographic guidance, yielded mucinous fluid but insufficient for mycobacteriological examination. Blood cultures for aerobic and anaerobic bacteria did not produce any growth.\\nThus, a laparotomy was performed. It revealed a large retroperitoneal yellowish mass containing pus. It is extending from the root of the mesentery to the vena cava. The access to this mass is difficult, and it required dividing the coloepiploic attachments. There were no carcinosis or ascits. The small bowel and the appendix were normal.\\nThe histopathological examination showed epitheloid granulomas with necrosis, giant cells, and lymphoepitheloid infiltrate (). Culture and polymerase chain reaction of tuberculosis using the surgical specimen were not performed. The diagnosis of retroperitoneal tuberculosis was established. There were not other tuberculosis involvements: computed tomography chest was normal, and MR scan of the spine excluded a spondylodiscitis. HIV test was negative.\\nAntitubercular therapy was started with isoniazid (300 mg once daily), rifampicin (600 mg once daily), pyrazinamide (2000 mg once daily) and ethambutol (1200 mg once daily), and was given for 9 months. No others antibiotics were administrated. The cyst gradually subsided and disappeared with a normal abdominal computed tomography 6 and 12 months later.\"\n        ],\n        \"semantic_type\": \"\",\n        \"description\": \"\"\n      }\n    }\n  ]\n}"
            }
          },
          "metadata": {},
          "execution_count": 5
        }
      ]
    },
    {
      "cell_type": "markdown",
      "source": [
        "## Want to make this unstructured dataset to structured dataset:\n",
        "\n",
        "- Downstream task like Information retrieval\n",
        "\n",
        "For this, we need to process the description column, and extracts the following structured fields:\n",
        "\n",
        "index\n",
        "\n",
        "_id\n",
        "\n",
        "age\n",
        "\n",
        "race\n",
        "\n",
        "gender\n",
        "\n",
        "health_problem\n",
        "\n",
        "symptoms\n",
        "\n",
        "ER_or_not_ER\n",
        "\n",
        "how_diagnosed\n",
        "\n",
        "case_summary_keyword\n",
        "\n",
        "health_problem\n",
        "\n",
        "organ_mapped\n",
        "\n",
        "ontology_info\tmapping_method\n"
      ],
      "metadata": {
        "id": "F3X3Jd9Zon85"
      }
    },
    {
      "cell_type": "markdown",
      "source": [
        "## 1. Set Up PyMedTermino2 for SNOMED CT/UMLS Mapping"
      ],
      "metadata": {
        "id": "FCmUZTduqmfs"
      }
    },
    {
      "cell_type": "code",
      "source": [
        " !pip install owlready2"
      ],
      "metadata": {
        "colab": {
          "base_uri": "https://localhost:8080/"
        },
        "id": "Wde-n2TMs47v",
        "outputId": "cc08374e-41e6-4ed3-f143-543caeb8cb99"
      },
      "execution_count": null,
      "outputs": [
        {
          "output_type": "stream",
          "name": "stdout",
          "text": [
            "Collecting owlready2\n",
            "  Downloading owlready2-0.48.tar.gz (27.3 MB)\n",
            "\u001b[2K     \u001b[90m━━━━━━━━━━━━━━━━━━━━━━━━━━━━━━━━━━━━━━━━\u001b[0m \u001b[32m27.3/27.3 MB\u001b[0m \u001b[31m15.4 MB/s\u001b[0m eta \u001b[36m0:00:00\u001b[0m\n",
            "\u001b[?25h  Installing build dependencies ... \u001b[?25l\u001b[?25hdone\n",
            "  Getting requirements to build wheel ... \u001b[?25l\u001b[?25hdone\n",
            "  Preparing metadata (pyproject.toml) ... \u001b[?25l\u001b[?25hdone\n",
            "Building wheels for collected packages: owlready2\n",
            "  Building wheel for owlready2 (pyproject.toml) ... \u001b[?25l\u001b[?25hdone\n",
            "  Created wheel for owlready2: filename=owlready2-0.48-cp311-cp311-linux_x86_64.whl size=24551720 sha256=56df74febebe01636bcbc8beb4928773dbd45a2874e4665f11f8c0adeeca6413\n",
            "  Stored in directory: /root/.cache/pip/wheels/2a/4f/b2/88d834aab03077e1611b46825f45c06ac4db07b77ee45eadd5\n",
            "Successfully built owlready2\n",
            "Installing collected packages: owlready2\n",
            "Successfully installed owlready2-0.48\n"
          ]
        }
      ]
    },
    {
      "cell_type": "code",
      "source": [
        "from google.colab import drive\n",
        "drive.mount('/content/drive')"
      ],
      "metadata": {
        "colab": {
          "base_uri": "https://localhost:8080/"
        },
        "id": "zn3xX0m70bBJ",
        "outputId": "a3a8cac2-3c38-4561-b6ff-24ac73224835"
      },
      "execution_count": null,
      "outputs": [
        {
          "output_type": "stream",
          "name": "stdout",
          "text": [
            "Mounted at /content/drive\n"
          ]
        }
      ]
    },
    {
      "cell_type": "markdown",
      "source": [
        "o/p: Mounted at /content/drive"
      ],
      "metadata": {
        "id": "OnvL_TI8Oq5L"
      }
    },
    {
      "cell_type": "code",
      "source": [
        "!ls /content/drive/MyDrive\n"
      ],
      "metadata": {
        "colab": {
          "base_uri": "https://localhost:8080/"
        },
        "id": "bWGJgunjM8TJ",
        "outputId": "1598f0d6-b3f3-4360-fe67-50a8ec7083e1"
      },
      "execution_count": null,
      "outputs": [
        {
          "output_type": "stream",
          "name": "stdout",
          "text": [
            " Account.csv\t\t\t\t'Introduction of Computer Security'\n",
            " AccountEmployee.csv\t\t\t Labs7.gdoc\n",
            " Bank_Locations.csv\t\t\t LoginCredentials.csv\n",
            " Branch.csv\t\t\t\t'MOCK_DATA (1).csv'\n",
            " BranchTransaction.csv\t\t\t Neha_Marlady_nmarlady_Homework1.gdoc\n",
            " Card.csv\t\t\t\t'NehaMarlady_resume (1).pdf'\n",
            "'Colab Notebooks'\t\t\t Neha_transcript.pdf\n",
            " Comprehensive_Banking_Database.csv\t sp25-cs486-InClassActivity07-1.gdoc\n",
            "'Cover Letter.gdoc'\t\t\t Transaction.csv\n",
            "'CS _final project.gdoc'\t\t TransactionType.csv\n",
            " Customer.csv\t\t\t\t Transcript.gdoc\n",
            "'Database data.gsheet'\t\t\t umls-2019AA-metathesaurus.zip\n",
            "'Database management system'\t\t'Untitled document (1).gdoc'\n",
            " db_final.gdoc\t\t\t\t'Untitled document (2).gdoc'\n",
            " Employee.csv\t\t\t\t'Untitled document.gdoc'\n",
            " Final_dataset.gsheet\t\t\t'Untitled spreadsheet.gsheet'\n",
            " graduate_project_deliverable_3.gdoc\t'wiCyS _ISC2.gdoc'\n",
            "'IF Interactive fiction'\t\t'Work hour.gsheet'\n",
            "'IF short story.gdoc'\t\t\t'Копия \"Family Tree_A4\".gdoc'\n",
            "'International Alumni Articles.gsheet'\n"
          ]
        }
      ]
    },
    {
      "cell_type": "markdown",
      "source": [
        "lists the content from the gdrive"
      ],
      "metadata": {
        "id": "IMNGJytUOwou"
      }
    },
    {
      "cell_type": "markdown",
      "metadata": {
        "id": "f9bbd5ec"
      },
      "source": [
        "### Obtaining UMLS Data\n",
        "\n",
        "To use the `import_umls` function, you need to download the UMLS Metathesaurus release files from the National Library of Medicine (NLM).\n",
        "\n",
        "1.  **Register with NLM:** Go to the [UMLS homepage](https://www.nlm.nih.gov/research/umls/index.html) and register for a UTS (UMLS Terminology Services) account.\n",
        "2.  **Download the Release:** Once registered, you can download the desired UMLS release (e.g., 2019AA) which will be in a zip format.\n",
        "3.  **Upload to Colab:** Upload the downloaded zip file (`umls-2019AA-metathesaurus.zip` or similar) to your Colab environment using the file browser on the left sidebar."
      ]
    },
    {
      "cell_type": "markdown",
      "source": [
        "## 2. Define Ontology-Based Mapping Function\n",
        "This function attempts to map a symptom or diagnosis string to a SNOMED CT concept and its associated organ/system"
      ],
      "metadata": {
        "id": "pG3DJb3Jrih8"
      }
    },
    {
      "cell_type": "code",
      "source": [
        "## Probabale codebase\n",
        "from owlready2 import *\n",
        "from owlready2.pymedtermino2 import *\n",
        "from owlready2.pymedtermino2.umls import *\n",
        "\n",
        "# Remove old backend if it exists, run this if you face any issue\n",
        "#if os.path.exists(\"pym.sqlite3\"):\n",
        "    #os.remove(\"pym.sqlite3\")\n",
        "\n",
        "\n",
        "\n",
        "# Set the backend for Owlready2 (you can change the filename if needed)\n",
        "default_world.set_backend(filename = \"pym.sqlite3\")\n",
        "\n",
        "# Import UMLS - Make sure the filename matches the uploaded zip file\n",
        "# You might need to adjust the path if you uploaded it to a specific directory\n",
        "try:\n",
        "    import_umls(\"/content/drive/MyDrive/umls-2019AA-metathesaurus.zip\", terminologies = [\"ICD10\", \"SNOMEDCT_US\", \"CUI\"])\n",
        "    ##import_umls(\"umls-2019AA-metathesaurus.zip\", terminologies = [\"ICD10\", \"SNOMEDCT_US\", \"CUI\"])\n",
        "    default_world.save()\n",
        "    print(\"UMLS import successful!\")\n",
        "except FileNotFoundError:\n",
        "    print(\"UMLS zip file not found. Please ensure 'umls-2019AA-metathesaurus.zip' is uploaded to your Colab environment.\")\n",
        "except Exception as e:\n",
        "    print(f\"An error occurred during UMLS import: {e}\")\n",
        "\n",
        "\n",
        "def snomed_map(term):\n",
        "    # Try to find the SNOMED CT concept for the given term\n",
        "    matches = SNOMEDCT_US.search(term)\n",
        "    if matches:\n",
        "        concept = matches[0]\n",
        "        # Get preferred term and semantic type (if available)\n",
        "        preferred = concept.preferred_label\n",
        "        semantic_types = getattr(concept, \"semantic_types\", [])\n",
        "        return preferred, semantic_types\n",
        "    return None, None"
      ],
      "metadata": {
        "colab": {
          "base_uri": "https://localhost:8080/"
        },
        "id": "B4eoPvbYrh7K",
        "outputId": "b7b62192-95d2-4884-f7ec-ff50948344ce"
      },
      "execution_count": null,
      "outputs": [
        {
          "output_type": "stream",
          "name": "stdout",
          "text": [
            "Importing UMLS from /content/drive/MyDrive/umls-2019AA-metathesaurus.zip with Python version 3.11.13 and Owlready version 2-0.48...\n",
            "  Parsing 2019AA/META/MRSTY.RRF as MRSTY\n",
            "  Parsing 2019AA/META/MRRANK.RRF as MRRANK\n",
            "  Parsing 2019AA/META/MRCONSO.RRF as MRCONSO\n",
            "  Parsing 2019AA/META/MRDEF.RRF as MRDEF\n",
            "  Parsing 2019AA/META/MRREL.RRF as MRREL\n",
            "  Parsing 2019AA/META/MRSAT.RRF as MRSAT\n",
            "Breaking ORIG cycles...\n",
            "    SNOMEDCT_US : 0 cycles found: \n",
            "    ICD10 : 0 cycles found: \n",
            "    SRC : 0 cycles found: \n",
            "Finalizing only properties and restrictions...\n",
            "Finalizing CUI - ORIG mapping...\n",
            "FTS Indexing...\n",
            "UMLS import successful!\n"
          ]
        }
      ]
    },
    {
      "cell_type": "markdown",
      "source": [
        "o/p:\n",
        "Importing UMLS from /content/drive/MyDrive/umls-2019AA-metathesaurus.zip with Python version 3.11.13 and Owlready version 2-0.48...\n",
        "  Parsing 2019AA/META/MRSTY.RRF as MRSTY\n",
        "  Parsing 2019AA/META/MRRANK.RRF as MRRANK\n",
        "  Parsing 2019AA/META/MRCONSO.RRF as MRCONSO\n",
        "  Parsing 2019AA/META/MRDEF.RRF as MRDEF\n",
        "  Parsing 2019AA/META/MRREL.RRF as MRREL\n",
        "  Parsing 2019AA/META/MRSAT.RRF as MRSAT\n",
        "Breaking ORIG cycles...\n",
        "    SNOMEDCT_US : 0 cycles found:\n",
        "    ICD10 : 0 cycles found:\n",
        "    SRC : 0 cycles found:\n",
        "Finalizing only properties and restrictions...\n",
        "Finalizing CUI - ORIG mapping...\n",
        "FTS Indexing...\n",
        "UMLS import successful!"
      ],
      "metadata": {
        "id": "Hdk7lSXORqRR"
      }
    },
    {
      "cell_type": "markdown",
      "source": [
        "## 3. Define BioBERT/ClinicalBERT Fallback Mapping\n",
        "This function uses BioBERT/ClinicalBERT to map the term to the most likely organ/system, using semantic similarity."
      ],
      "metadata": {
        "id": "2NCSZvItrqD4"
      }
    },
    {
      "cell_type": "code",
      "source": [
        "from transformers import AutoTokenizer, AutoModel\n",
        "import torch\n",
        "\n",
        "# Load BioBERT (or ClinicalBERT)\n",
        "tokenizer = AutoTokenizer.from_pretrained(\"dmis-lab/biobert-base-cased-v1.1\")\n",
        "model = AutoModel.from_pretrained(\"dmis-lab/biobert-base-cased-v1.1\")\n",
        "\n",
        "organ_labels = [\"heart\", \"lung\", \"liver\", \"kidney\", \"brain\", \"breast\", \"systemic\", \"skin\", \"blood\"]\n",
        "\n",
        "def get_embedding(text):\n",
        "    inputs = tokenizer(text, return_tensors=\"pt\", truncation=True, max_length=32)\n",
        "    with torch.no_grad():\n",
        "        outputs = model(**inputs)\n",
        "    return outputs.last_hidden_state.mean(dim=1).squeeze()\n",
        "\n",
        "def biobert_map(term):\n",
        "    term_emb = get_embedding(term)\n",
        "    sims = []\n",
        "    for label in organ_labels:\n",
        "        label_emb = get_embedding(label)\n",
        "        sim = torch.cosine_similarity(term_emb, label_emb, dim=0)\n",
        "        sims.append(sim.item())\n",
        "    best_idx = sims.index(max(sims))\n",
        "    return organ_labels[best_idx], sims[best_idx]\n"
      ],
      "metadata": {
        "id": "TqavWmtQrWoh",
        "colab": {
          "base_uri": "https://localhost:8080/",
          "height": 240,
          "referenced_widgets": [
            "fad2fa3aecc5454ca8d09f209b7fa060",
            "43afaaef0ff8485f8c34967139fc5935",
            "4b68306bc4b44540840028db24e8770f",
            "6b2c4c7ff0484881a15a858c03061b17",
            "f8c1f8292adc4754a1c82bd6e7391a4d",
            "57b61f6c177f47149c71351108172107",
            "22c8b9aaddac4f8c8943439156cc7a4f",
            "baf2a1ce5dd44e518cff2d859f19d59e",
            "e377111ab9b74fb4b2d8c50d0e01d077",
            "0db0c884c7204973936be9295c96fac3",
            "00f7f531969040deb2cdbc06632a209c",
            "62a761a215c847ce9107753e2baefd77",
            "ab0c524cbb0a4166a17164c05564c270",
            "f2f605a56b21426d89b1d482a1b35993",
            "18ef70140f6e4915aaf4e36dd59eab45",
            "1aa710be2101454e91022973d533b009",
            "9d708b284f6a4159bfc115f777feecac",
            "a07668d9d72146b19d4b589d21d3f154",
            "c10aecb2775b41e2989ae31ae416e300",
            "2b54fb8edd034603a0fc8e10f7c69e79",
            "d430c080cf1f4b709076db9ab09e36aa",
            "173cb39bc9a549a88eed8e081d9f6f57",
            "9b0288d8fc8a47309b0030ad73180a22",
            "dba7a04103234e77bc4a29a91b64fdc4",
            "409542c87e084674b2dc9b33d85316f5",
            "3fab4a4c98aa49a59766f52294593013",
            "913ff78df79c4a6a91f480db0ba293be",
            "f481779b7f544193bf5ce2ebd32ac6ea",
            "23649c9683134d608ca717fb2329aaeb",
            "30d26aa733cb455f972a4e50dc522d45",
            "393ee241dc144be2b2052bd9ce0ddd62",
            "8f344475a4454d258a4eca6e3375846d",
            "b50dc580c5d740e2b5a26f26b814540a"
          ]
        },
        "outputId": "5fe32de0-7e78-4206-90cb-cddf119f2970"
      },
      "execution_count": null,
      "outputs": [
        {
          "output_type": "stream",
          "name": "stderr",
          "text": [
            "/usr/local/lib/python3.11/dist-packages/huggingface_hub/utils/_auth.py:94: UserWarning: \n",
            "The secret `HF_TOKEN` does not exist in your Colab secrets.\n",
            "To authenticate with the Hugging Face Hub, create a token in your settings tab (https://huggingface.co/settings/tokens), set it as secret in your Google Colab and restart your session.\n",
            "You will be able to reuse this secret in all of your notebooks.\n",
            "Please note that authentication is recommended but still optional to access public models or datasets.\n",
            "  warnings.warn(\n"
          ]
        },
        {
          "output_type": "display_data",
          "data": {
            "text/plain": [
              "config.json:   0%|          | 0.00/313 [00:00<?, ?B/s]"
            ],
            "application/vnd.jupyter.widget-view+json": {
              "version_major": 2,
              "version_minor": 0,
              "model_id": "fad2fa3aecc5454ca8d09f209b7fa060"
            }
          },
          "metadata": {}
        },
        {
          "output_type": "display_data",
          "data": {
            "text/plain": [
              "vocab.txt: 0.00B [00:00, ?B/s]"
            ],
            "application/vnd.jupyter.widget-view+json": {
              "version_major": 2,
              "version_minor": 0,
              "model_id": "62a761a215c847ce9107753e2baefd77"
            }
          },
          "metadata": {}
        },
        {
          "output_type": "display_data",
          "data": {
            "text/plain": [
              "pytorch_model.bin:   0%|          | 0.00/436M [00:00<?, ?B/s]"
            ],
            "application/vnd.jupyter.widget-view+json": {
              "version_major": 2,
              "version_minor": 0,
              "model_id": "9b0288d8fc8a47309b0030ad73180a22"
            }
          },
          "metadata": {}
        }
      ]
    },
    {
      "cell_type": "markdown",
      "source": [
        "## 4. Hybrid Mapping Function\n",
        "Try SNOMED CT first; if not found, use BioBERT/ClinicalBERT."
      ],
      "metadata": {
        "id": "K7BUkA1hry0o"
      }
    },
    {
      "cell_type": "code",
      "source": [
        "def hybrid_organ_mapping(term):\n",
        "    preferred, semantic_types = snomed_map(term)\n",
        "    if preferred:\n",
        "        # High-confidence mapping\n",
        "        return preferred, semantic_types, \"ontology\"\n",
        "    else:\n",
        "        # Fallback to BioBERT/ClinicalBERT\n",
        "        label, score = biobert_map(term)\n",
        "        return label, score, \"biobert\"\n"
      ],
      "metadata": {
        "id": "J3zzt9HUryKT"
      },
      "execution_count": null,
      "outputs": []
    },
    {
      "cell_type": "markdown",
      "source": [
        "## 5. Apply to Your DataFrame\n",
        "Extract the main health problem or symptom from each description, then map it."
      ],
      "metadata": {
        "id": "mPNv_xi_r11r"
      }
    },
    {
      "cell_type": "code",
      "source": [
        "def extract_health_problem(text):\n",
        "    match = re.search(r'presents? (?:to|with|complaining of|in)\\s+(.*?)[\\.,;]', text, re.I)\n",
        "    if match:\n",
        "        return match.group(1).strip()\n",
        "    match2 = re.search(r'diagnosis of ([^\\.]+)', text, re.I)\n",
        "    if match2:\n",
        "        return match2.group(1).strip()\n",
        "    return None\n",
        "\n",
        "sampled_df['health_problem'] = sampled_df['description'].apply(extract_health_problem)\n",
        "sampled_df[['organ_mapped', 'ontology_info', 'mapping_method']] = sampled_df['health_problem'].apply(\n",
        "    lambda x: pd.Series(hybrid_organ_mapping(x) if pd.notnull(x) else (None, None, None))\n",
        ")\n",
        "print(sampled_df[['index', '_id', 'health_problem', 'organ_mapped', 'ontology_info', 'mapping_method']])\n"
      ],
      "metadata": {
        "id": "gnJRXGgrr7DN"
      },
      "execution_count": null,
      "outputs": []
    },
    {
      "cell_type": "markdown",
      "source": [
        "## Extract Age , Race other terms"
      ],
      "metadata": {
        "id": "8prLdEissTp5"
      }
    },
    {
      "cell_type": "code",
      "source": [
        "def extract_race(text):\n",
        "    races = ['African-American', 'white', 'Caucasian', 'Asian', 'Hispanic', 'Latino', 'Black', 'Native American']\n",
        "    for race in races:\n",
        "        if race.lower() in text.lower():\n",
        "            return race\n",
        "    return None\n",
        "\n",
        "def extract_gender(text):\n",
        "    if re.search(r'\\bmale\\b', text, re.I):\n",
        "        return 'Male'\n",
        "    elif re.search(r'\\bfemale|woman|girl\\b', text, re.I):\n",
        "        return 'Female'\n",
        "    else:\n",
        "        return None\n",
        "\n",
        "def extract_health_problem(text):\n",
        "    match = re.search(r'presents? (?:to|with|complaining of|in)\\s+(.*?)[\\.,;]', text, re.I)\n",
        "    if match:\n",
        "        return match.group(1).strip()\n",
        "    match2 = re.search(r'diagnosis of ([^\\.]+)', text, re.I)\n",
        "    if match2:\n",
        "        return match2.group(1).strip()\n",
        "    return None\n",
        "\n",
        "def extract_symptoms(text):\n",
        "    symptoms_list = ['pain', 'fever', 'cough', 'dyspnea', 'nausea', 'diaphoresis', 'irritability', 'malaise', 'lesion', 'shortness of breath', 'infiltrates', 'mass', 'anemia', 'swelling', 'oozing', 'tenderness']\n",
        "    found = []\n",
        "    for sym in symptoms_list:\n",
        "        if re.search(r'\\b' + re.escape(sym) + r'\\b', text, re.I):\n",
        "            found.append(sym)\n",
        "    return ', '.join(found) if found else None\n",
        "\n",
        "def extract_er(text):\n",
        "    if re.search(r'\\bER\\b|\\bemergency department\\b', text, re.I):\n",
        "        return 'Yes'\n",
        "    else:\n",
        "        return 'No'\n",
        "\n",
        "def extract_how_diagnosed(text):\n",
        "    diag_methods = ['x-ray', 'CT scan', 'MRI', 'EKG', 'laboratory tests', 'echocardiogram', 'auscultation', 'examination', 'scan', 'biopsy', 'HbA1c', 'D-dimer']\n",
        "    found = []\n",
        "    for method in diag_methods:\n",
        "        if method in text.lower():\n",
        "            found.append(method)\n",
        "    return ', '.join(found) if found else None\n",
        "\n",
        "def extract_case_keywords(text):\n",
        "    stopwords = set(['the', 'and', 'of', 'to', 'with', 'is', 'a', 'in', 'for', 'on', 'by', 'as', 'at', 'has', 'she', 'he', 'was', 'but', 'no', 'or', 'her', 'his', 'from', 'that', 'this', 'have', 'had', 'are', 'not', 'be', 'an', 'which', 'been', 'were', 'it', 'shows'])\n",
        "    words = re.findall(r'\\b[a-zA-Z]{4,}\\b', text.lower())\n",
        "    freq = pd.Series(words).value_counts()\n",
        "    keywords = [w for w in freq.index if w not in stopwords][:3]\n",
        "    return ', '.join(keywords)\n",
        "\n"
      ],
      "metadata": {
        "id": "jBbt2zZ2sS_N"
      },
      "execution_count": null,
      "outputs": []
    },
    {
      "cell_type": "markdown",
      "source": [
        "## Apply to Dataframe"
      ],
      "metadata": {
        "id": "u1Pq7uGfshY1"
      }
    },
    {
      "cell_type": "code",
      "source": [
        "structured['index'] = sampled_df['index']\n",
        "structured['_id'] = sampled_df['_id']\n",
        "structured['age'] = sampled_df['description'].apply(extract_age)\n",
        "structured['race'] = sampled_df['description'].apply(extract_race)\n",
        "structured['gender'] = sampled_df['description'].apply(extract_gender)\n",
        "structured['health_problem'] = sampled_df['description'].apply(extract_health_problem)\n",
        "structured['symptoms'] = sampled_df['description'].apply(extract_symptoms)\n",
        "structured['ER_or_not_ER'] = sampled_df['description'].apply(extract_er)\n",
        "structured['how_diagnosed'] = sampled_df['description'].apply(extract_how_diagnosed)\n",
        "structured['case_summary_keyword'] = sampled_df['description'].apply(extract_case_keywords)"
      ],
      "metadata": {
        "id": "spFM_OskslUm"
      },
      "execution_count": null,
      "outputs": []
    },
    {
      "cell_type": "code",
      "source": [
        "# Organ mapping\n",
        "organ_map_results = structured['health_problem'].apply(lambda x: hybrid_organ_mapping(x) if pd.notnull(x) else (None, None, None))\n",
        "structured['organ_mapped'] = organ_map_results.apply(lambda x: x[0])\n",
        "structured['ontology_info'] = organ_map_results.apply(lambda x: x[1])\n",
        "structured['mapping_method'] = organ_map_results.apply(lambda x: x[2])\n",
        "\n",
        "print(structured)"
      ],
      "metadata": {
        "id": "CQfpZot8sqrv"
      },
      "execution_count": null,
      "outputs": []
    }
  ]
}